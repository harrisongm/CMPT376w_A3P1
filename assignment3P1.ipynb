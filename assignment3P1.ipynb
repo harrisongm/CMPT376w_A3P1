{
 "cells": [
  {
   "cell_type": "markdown",
   "metadata": {},
   "source": []
  },
  {
   "cell_type": "markdown",
   "metadata": {},
   "source": [
    "# Python Turtle graphic simple tutorial combine with loops\n",
    "\n",
    "    YuHao Xiao(Harrison) from CMPT376w-D200\n",
    "    This video is for First-year undergraduate with no prior technical experience (non-majors).\n",
    "\n",
    "## Tools for this video\n",
    "    - Python\n",
    "    - VSCode\n",
    "    - Jupyter-Notebook\n",
    "\n",
    "## Content in this Video\n",
    "    - 1. Previous require knowledge: Loops in Python (for/while loops)\n",
    "    - 2. Python Turtle tutorial\n"
   ]
  },
  {
   "cell_type": "markdown",
   "metadata": {},
   "source": [
    "## Part 1: Loops in Python (for/while loops)"
   ]
  },
  {
   "cell_type": "markdown",
   "metadata": {},
   "source": [
    "### while loops\n",
    "\n",
    "#### Basic syntex\n",
    "\n",
    "    while [condition]: \n",
    "        [loop body]\n",
    "\n",
    "#### Example"
   ]
  },
  {
   "cell_type": "code",
   "execution_count": 2,
   "metadata": {},
   "outputs": [
    {
     "name": "stdout",
     "output_type": "stream",
     "text": [
      "1\n",
      "2\n",
      "3\n",
      "4\n",
      "5\n"
     ]
    }
   ],
   "source": [
    "nums = [1, 2, 3, 4, 5]\n",
    "length = len(nums)\n",
    "i = 0 \n",
    "while i < length: \n",
    "    print(nums[i])\n",
    "    i += 1"
   ]
  },
  {
   "cell_type": "markdown",
   "metadata": {},
   "source": [
    "### for loops\n",
    "\n",
    "#### Basic syntex\n",
    "\n",
    "    for index in [collection]:\n",
    "        [loop body]\n",
    "\n",
    "#### Example"
   ]
  },
  {
   "cell_type": "code",
   "execution_count": 6,
   "metadata": {},
   "outputs": [
    {
     "name": "stdout",
     "output_type": "stream",
     "text": [
      "1\n",
      "2\n",
      "3\n",
      "4\n",
      "5\n"
     ]
    }
   ],
   "source": [
    "index = 1\n",
    "for i in range(5):\n",
    "    print(index)\n",
    "    index += 1"
   ]
  },
  {
   "cell_type": "markdown",
   "metadata": {},
   "source": [
    "## Part 2: Python Turtle Tutorial"
   ]
  },
  {
   "cell_type": "markdown",
   "metadata": {},
   "source": [
    "### What is \"Turtle\"?\n",
    "    It's a drawing tool which included in the Python library, developed by Wally F.,Seymour P. and Cynthia S. in 1967.\n",
    "\n",
    "### Basic syntex"
   ]
  },
  {
   "cell_type": "markdown",
   "metadata": {},
   "source": [
    "Firstly, we need to import the \"turtle\" module from library."
   ]
  },
  {
   "cell_type": "code",
   "execution_count": 10,
   "metadata": {},
   "outputs": [],
   "source": [
    "from turtle import *"
   ]
  },
  {
   "cell_type": "markdown",
   "metadata": {},
   "source": [
    "#### Basic drawing"
   ]
  },
  {
   "cell_type": "code",
   "execution_count": null,
   "metadata": {},
   "outputs": [],
   "source": [
    "import turtle\n",
    "\n",
    "t = turtle.Turtle()\n",
    "\n",
    "t.forward(10) # Let turtle forward 10 steps.\n",
    "\n",
    "t.back(10) # Let turtle backward 10 steps.\n",
    "\n",
    "t.left(90) # Let turtle turn left by 90 degrees.\n",
    "\n",
    "t.right(90) # Let turtle turn right by 90 degrees.\n",
    "\n",
    "t.pos() # show the position of the turtle\n",
    "\n",
    "t.pendown() # Put the pen down - will drawing when moving.\n",
    "\n",
    "t.penup() # Pull the pen up - will not drawing when further moving.\n",
    "\n",
    "turtle.done() # Tell turtle it is already finish its work."
   ]
  },
  {
   "cell_type": "markdown",
   "metadata": {},
   "source": [
    "#### Examples"
   ]
  },
  {
   "cell_type": "code",
   "execution_count": 7,
   "metadata": {},
   "outputs": [],
   "source": [
    "import turtle\n",
    "\n",
    "t = turtle.Turtle()\n",
    "\n",
    "for i in range(4):\n",
    "    t.forward(100)\n",
    "    t.right(90)\n",
    "\n",
    "turtle.done()"
   ]
  },
  {
   "cell_type": "code",
   "execution_count": 1,
   "metadata": {},
   "outputs": [],
   "source": [
    "import turtle\n",
    "\n",
    "t = turtle.Turtle()\n",
    "\n",
    "i = 0\n",
    "while i < 4:\n",
    "    t.forward(100)\n",
    "    t.right(90)\n",
    "    i += 1\n",
    "\n",
    "turtle.done()"
   ]
  },
  {
   "cell_type": "markdown",
   "metadata": {},
   "source": [
    "#### Exercise for U: Draw a star by python turtle"
   ]
  },
  {
   "cell_type": "code",
   "execution_count": 3,
   "metadata": {},
   "outputs": [
    {
     "ename": "",
     "evalue": "",
     "output_type": "error",
     "traceback": [
      "\u001b[1;31m在当前单元格或上一个单元格中执行代码时 Kernel 崩溃。\n",
      "\u001b[1;31m请查看单元格中的代码，以确定故障的可能原因。\n",
      "\u001b[1;31m单击<a href='https://aka.ms/vscodeJupyterKernelCrash'>此处</a>了解详细信息。\n",
      "\u001b[1;31m有关更多详细信息，请查看 Jupyter <a href='command:jupyter.viewOutput'>log</a>。"
     ]
    }
   ],
   "source": [
    "import turtle\n",
    "\n",
    "t = turtle.Turtle()\n",
    "\n",
    "t.right(75)\n",
    "t.forward(100)\n",
    "\n",
    "for i in range(4):\n",
    "    t.right(144)\n",
    "    t.forward(100)\n",
    "\n",
    "turtle.done()"
   ]
  },
  {
   "cell_type": "markdown",
   "metadata": {},
   "source": [
    "## Resources\n",
    "\n",
    "Python Turtle: https://docs.python.org/3/library/turtle.html\n",
    "\n",
    "Loops in Python: https://blog.logrocket.com/for-while-loops-python/\n",
    "\n",
    "Markdown: https://www.markdownguide.org/basic-syntax/\n",
    "\n",
    "turtle.done() crash: https://stackoverflow.com/questions/73450640/why-is-turtle-done-saying-it-has-no-attribute-done"
   ]
  }
 ],
 "metadata": {
  "kernelspec": {
   "display_name": "Python 3",
   "language": "python",
   "name": "python3"
  },
  "language_info": {
   "codemirror_mode": {
    "name": "ipython",
    "version": 3
   },
   "file_extension": ".py",
   "mimetype": "text/x-python",
   "name": "python",
   "nbconvert_exporter": "python",
   "pygments_lexer": "ipython3",
   "version": "3.9.13"
  }
 },
 "nbformat": 4,
 "nbformat_minor": 2
}
